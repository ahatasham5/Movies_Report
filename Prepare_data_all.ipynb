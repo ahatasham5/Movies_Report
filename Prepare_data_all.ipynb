{
  "nbformat": 4,
  "nbformat_minor": 0,
  "metadata": {
    "colab": {
      "provenance": [],
      "gpuType": "T4",
      "authorship_tag": "ABX9TyPV/L4yTJ4kpx5ULo4KM4u4",
      "include_colab_link": true
    },
    "kernelspec": {
      "name": "python3",
      "display_name": "Python 3"
    },
    "language_info": {
      "name": "python"
    },
    "accelerator": "GPU"
  },
  "cells": [
    {
      "cell_type": "markdown",
      "metadata": {
        "id": "view-in-github",
        "colab_type": "text"
      },
      "source": [
        "<a href=\"https://colab.research.google.com/github/ahatasham5/Movies_Report/blob/main/Prepare_data_all.ipynb\" target=\"_parent\"><img src=\"https://colab.research.google.com/assets/colab-badge.svg\" alt=\"Open In Colab\"/></a>"
      ]
    },
    {
      "cell_type": "code",
      "source": [
        "# Import required libraries\n",
        "import pandas as pd\n",
        "import gzip\n",
        "import shutil"
      ],
      "metadata": {
        "id": "WSsnl-Gf2VAm"
      },
      "execution_count": null,
      "outputs": []
    },
    {
      "cell_type": "code",
      "source": [
        "import gzip\n",
        "import csv\n",
        "\n",
        "# Step 1: Extract the .gz file and process it line by line\n",
        "input_file = 'title.ratings.tsv.gz'  # Replace with your file path\n",
        "output_csv_file = 'top_1000_rows.csv'\n",
        "\n",
        "# Step 2: Initialize counters and write the first 1000 rows to a CSV\n",
        "row_count = 0\n",
        "with gzip.open(input_file, 'rt', encoding='utf-8') as tsv_file:  # Read in text mode\n",
        "    reader = csv.reader(tsv_file, delimiter='\\t')  # TSV file reader\n",
        "    with open(output_csv_file, 'w', encoding='utf-8', newline='') as csv_file:\n",
        "        writer = csv.writer(csv_file)  # CSV file writer\n",
        "\n",
        "        # Step 3: Write the header and top 1000 rows\n",
        "        for row in reader:\n",
        "            writer.writerow(row)  # Write each row\n",
        "            row_count += 1\n",
        "            if row_count == 1000:  # Stop after 1000 rows\n",
        "                break\n",
        "\n",
        "print(f\"Top 1000 rows saved to {output_csv_file}.\")\n",
        "\n",
        "# Step 4: Download the CSV file\n",
        "from google.colab import files\n",
        "files.download(output_csv_file)\n",
        "\n"
      ],
      "metadata": {
        "colab": {
          "base_uri": "https://localhost:8080/",
          "height": 35
        },
        "id": "obkY9IEv2_h8",
        "outputId": "c68fb4af-6bdc-4b8b-f77a-ade4aa5a9226"
      },
      "execution_count": null,
      "outputs": [
        {
          "output_type": "stream",
          "name": "stdout",
          "text": [
            "Top 1000 rows saved to top_1000_rows.csv.\n"
          ]
        },
        {
          "output_type": "display_data",
          "data": {
            "text/plain": [
              "<IPython.core.display.Javascript object>"
            ],
            "application/javascript": [
              "\n",
              "    async function download(id, filename, size) {\n",
              "      if (!google.colab.kernel.accessAllowed) {\n",
              "        return;\n",
              "      }\n",
              "      const div = document.createElement('div');\n",
              "      const label = document.createElement('label');\n",
              "      label.textContent = `Downloading \"${filename}\": `;\n",
              "      div.appendChild(label);\n",
              "      const progress = document.createElement('progress');\n",
              "      progress.max = size;\n",
              "      div.appendChild(progress);\n",
              "      document.body.appendChild(div);\n",
              "\n",
              "      const buffers = [];\n",
              "      let downloaded = 0;\n",
              "\n",
              "      const channel = await google.colab.kernel.comms.open(id);\n",
              "      // Send a message to notify the kernel that we're ready.\n",
              "      channel.send({})\n",
              "\n",
              "      for await (const message of channel.messages) {\n",
              "        // Send a message to notify the kernel that we're ready.\n",
              "        channel.send({})\n",
              "        if (message.buffers) {\n",
              "          for (const buffer of message.buffers) {\n",
              "            buffers.push(buffer);\n",
              "            downloaded += buffer.byteLength;\n",
              "            progress.value = downloaded;\n",
              "          }\n",
              "        }\n",
              "      }\n",
              "      const blob = new Blob(buffers, {type: 'application/binary'});\n",
              "      const a = document.createElement('a');\n",
              "      a.href = window.URL.createObjectURL(blob);\n",
              "      a.download = filename;\n",
              "      div.appendChild(a);\n",
              "      a.click();\n",
              "      div.remove();\n",
              "    }\n",
              "  "
            ]
          },
          "metadata": {}
        },
        {
          "output_type": "display_data",
          "data": {
            "text/plain": [
              "<IPython.core.display.Javascript object>"
            ],
            "application/javascript": [
              "download(\"download_bca0966d-50a7-4721-b874-819fa6679b50\", \"top_1000_rows.csv\", 18385)"
            ]
          },
          "metadata": {}
        }
      ]
    }
  ]
}