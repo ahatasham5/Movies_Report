{
  "nbformat": 4,
  "nbformat_minor": 0,
  "metadata": {
    "colab": {
      "provenance": [],
      "authorship_tag": "ABX9TyPvwjABGZtIlC1AQI7c3hja",
      "include_colab_link": true
    },
    "kernelspec": {
      "name": "python3",
      "display_name": "Python 3"
    },
    "language_info": {
      "name": "python"
    }
  },
  "cells": [
    {
      "cell_type": "markdown",
      "metadata": {
        "id": "view-in-github",
        "colab_type": "text"
      },
      "source": [
        "<a href=\"https://colab.research.google.com/github/ahatasham5/Movies_Report/blob/main/Prepare_data2.ipynb\" target=\"_parent\"><img src=\"https://colab.research.google.com/assets/colab-badge.svg\" alt=\"Open In Colab\"/></a>"
      ]
    },
    {
      "cell_type": "code",
      "source": [
        "import pandas as pd\n",
        "\n",
        "# Replace 'file.tsv' with the name of your uploaded file\n",
        "tsv_file = 'name.basics.tsv'\n",
        "\n",
        "# Read the TSV file\n",
        "data = pd.read_csv(tsv_file, sep='\\t')\n",
        "\n",
        "# Get the number of rows and columns\n",
        "rows, columns = data.shape\n",
        "print(f\"The dataset has {rows} rows and {columns} columns.\")\n"
      ],
      "metadata": {
        "colab": {
          "base_uri": "https://localhost:8080/"
        },
        "id": "Ajl_dAS3780t",
        "outputId": "b07580fd-491c-4d02-d82a-b754d8a78242"
      },
      "execution_count": 1,
      "outputs": [
        {
          "output_type": "stream",
          "name": "stdout",
          "text": [
            "The dataset has 225044 rows and 6 columns.\n"
          ]
        }
      ]
    },
    {
      "cell_type": "code",
      "execution_count": 2,
      "metadata": {
        "colab": {
          "base_uri": "https://localhost:8080/"
        },
        "id": "RTy1_73S7pAF",
        "outputId": "84726624-4a02-44f1-fc22-0a98919bdd51"
      },
      "outputs": [
        {
          "output_type": "stream",
          "name": "stdout",
          "text": [
            "\n",
            "First 1,000 rows saved to 'output_1000_rows.csv'\n"
          ]
        }
      ],
      "source": [
        "# Extract the first 1,000 rows\n",
        "data_1000 = data.head(1000)\n",
        "\n",
        "# Save as a CSV file\n",
        "data_1000.to_csv('output_1000_rows.csv', index=False)\n",
        "\n",
        "print(\"\\nFirst 1,000 rows saved to 'output_1000_rows.csv'\")\n"
      ]
    }
  ]
}